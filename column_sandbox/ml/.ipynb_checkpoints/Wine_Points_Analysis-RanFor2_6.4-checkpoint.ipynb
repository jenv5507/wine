{
 "cells": [
  {
   "cell_type": "code",
   "execution_count": 1,
   "id": "c04c3673",
   "metadata": {},
   "outputs": [],
   "source": [
    "import warnings\n",
    "warnings.filterwarnings('ignore')"
   ]
  },
  {
   "cell_type": "code",
   "execution_count": 2,
   "id": "dc5d64f6",
   "metadata": {},
   "outputs": [],
   "source": [
    "# Initial imports\n",
    "import pandas as pd\n",
    "import numpy as np\n",
    "from pathlib import Path\n",
    "from collections import Counter\n",
    "from sklearn.model_selection import train_test_split\n",
    "from sklearn.preprocessing import StandardScaler, MinMaxScaler,OneHotEncoder\n",
    "import os\n",
    "from sklearn.metrics import balanced_accuracy_score\n",
    "from sklearn.metrics import confusion_matrix\n",
    "from sklearn.preprocessing import LabelEncoder\n",
    "from sklearn.linear_model import LogisticRegression\n",
    "from sklearn.ensemble import RandomForestClassifier\n",
    "# import tensorflow as tf\n",
    "# from tensorflow.keras.callbacks import ModelCheckpoint\n",
    "from sklearn.metrics import classification_report\n",
    "\n",
    "\n"
   ]
  },
  {
   "cell_type": "code",
   "execution_count": 3,
   "id": "b9369348",
   "metadata": {},
   "outputs": [],
   "source": [
    "#  Import and read the csv file(s)\n",
    "#file_path = \"../Mod20_Group_Challenge/iris.csv\"\n",
    "wine_df=pd.read_csv(\"https://raw.githubusercontent.com/saraegregg/Mod20_Group_Challenge/main/data_cleaning/ml_master_table.csv\", encoding='latin1')\n"
   ]
  },
  {
   "cell_type": "code",
   "execution_count": 4,
   "id": "bc1ff9d6",
   "metadata": {},
   "outputs": [],
   "source": [
    "# Pull in top keywords\n",
    "keywords = ['ripe', 'crisp', 'bright', 'dry', 'full', 'sweet', 'fresh', 'earthy', 'bitter', 'aftertaste']\n",
    "for k in keywords:\n",
    "    wine_df[k] = wine_df.description.apply(lambda x : 1 if x.find(k)>-1 else 0)\n"
   ]
  },
  {
   "cell_type": "code",
   "execution_count": 5,
   "id": "97004619",
   "metadata": {},
   "outputs": [],
   "source": [
    "# Drop the non-beneficial ID columns, 'Description'.\n",
    "wine_df=wine_df.drop(columns=['description', 'wine_id', 'province_id', 'country_id', 'winery_id'])\n"
   ]
  },
  {
   "cell_type": "code",
   "execution_count": 6,
   "id": "c277510e",
   "metadata": {},
   "outputs": [
    {
     "data": {
      "text/plain": [
       "88     13407\n",
       "90     12071\n",
       "87     12036\n",
       "89      9878\n",
       "91      9087\n",
       "86      8931\n",
       "92      7201\n",
       "85      6646\n",
       "93      4909\n",
       "84      4091\n",
       "94      2746\n",
       "83      2015\n",
       "95      1106\n",
       "82      1004\n",
       "81       426\n",
       "96       364\n",
       "80       274\n",
       "97       145\n",
       "98        53\n",
       "99        16\n",
       "100       14\n",
       "Name: points, dtype: int64"
      ]
     },
     "execution_count": 6,
     "metadata": {},
     "output_type": "execute_result"
    }
   ],
   "source": [
    "point_counts=wine_df.points.value_counts()\n",
    "point_counts"
   ]
  },
  {
   "cell_type": "code",
   "execution_count": 7,
   "id": "a57f7938",
   "metadata": {},
   "outputs": [],
   "source": [
    "def getPoints(points):\n",
    "    if(points <= 85):\n",
    "        return '1'\n",
    "    elif(points<=90):\n",
    "        return '2'\n",
    "    elif(points<=95):\n",
    "        return '3'\n",
    "    elif(points<=100):\n",
    "        return '4'\n",
    "    else:\n",
    "        return 'If this gets hit, we did something wrong!'"
   ]
  },
  {
   "cell_type": "code",
   "execution_count": 8,
   "id": "5bf5a8f0",
   "metadata": {},
   "outputs": [],
   "source": [
    "wine_df['Points'] = wine_df['points'].apply(getPoints)"
   ]
  },
  {
   "cell_type": "code",
   "execution_count": 9,
   "id": "e195f0a4",
   "metadata": {},
   "outputs": [
    {
     "data": {
      "text/plain": [
       "20     5729\n",
       "15     5078\n",
       "25     4737\n",
       "30     3951\n",
       "18     3853\n",
       "       ... \n",
       "973       1\n",
       "757       1\n",
       "247       1\n",
       "322       1\n",
       "672       1\n",
       "Name: price, Length: 377, dtype: int64"
      ]
     },
     "execution_count": 9,
     "metadata": {},
     "output_type": "execute_result"
    }
   ],
   "source": [
    "price_counts=wine_df.price.value_counts()\n",
    "price_counts"
   ]
  },
  {
   "cell_type": "code",
   "execution_count": 10,
   "id": "0befd5e2",
   "metadata": {},
   "outputs": [
    {
     "data": {
      "text/plain": [
       "Other    44716\n",
       "20        5729\n",
       "15        5078\n",
       "25        4737\n",
       "30        3951\n",
       "18        3853\n",
       "12        3317\n",
       "13        3037\n",
       "35        2955\n",
       "40        2917\n",
       "16        2861\n",
       "10        2832\n",
       "22        2689\n",
       "14        2661\n",
       "50        2559\n",
       "17        2528\n",
       "Name: price, dtype: int64"
      ]
     },
     "execution_count": 10,
     "metadata": {},
     "output_type": "execute_result"
    }
   ],
   "source": [
    "# Determine which values to replace if counts are less than ..?\n",
    "replace_price = list(price_counts[price_counts < 2500].index)\n",
    "\n",
    "# Replace in dataframe\n",
    "for pri in replace_price:\n",
    "    wine_df.price= wine_df.price.replace(pri,\"Other\")\n",
    "    \n",
    "# Check to make sure binning was successful\n",
    "wine_df.price.value_counts()"
   ]
  },
  {
   "cell_type": "code",
   "execution_count": 11,
   "id": "cfa759d6",
   "metadata": {},
   "outputs": [
    {
     "data": {
      "text/plain": [
       "Pinot Noir                      9831\n",
       "Chardonnay                      8298\n",
       "Red Blend                       6844\n",
       "Cabernet Sauvignon              6199\n",
       "Bordeaux-style Red Blend        4812\n",
       "                                ... \n",
       "Athiri                             1\n",
       "Cercial                            1\n",
       "Fruburgunder                       1\n",
       "Muscat Blanc a Petits Grains       1\n",
       "Bobal-Cabernet Sauvignon           1\n",
       "Name: variety, Length: 654, dtype: int64"
      ]
     },
     "execution_count": 11,
     "metadata": {},
     "output_type": "execute_result"
    }
   ],
   "source": [
    "variety_counts=wine_df.variety.value_counts()\n",
    "variety_counts"
   ]
  },
  {
   "cell_type": "code",
   "execution_count": 12,
   "id": "d855eeba",
   "metadata": {},
   "outputs": [
    {
     "data": {
      "text/plain": [
       "Other                       38950\n",
       "Pinot Noir                   9831\n",
       "Chardonnay                   8298\n",
       "Red Blend                    6844\n",
       "Cabernet Sauvignon           6199\n",
       "Bordeaux-style Red Blend     4812\n",
       "Riesling                     4722\n",
       "Sauvignon Blanc              3841\n",
       "Syrah                        3103\n",
       "Rose                         3033\n",
       "Malbec                       2524\n",
       "Portuguese Red               2196\n",
       "Merlot                       2067\n",
       "Name: variety, dtype: int64"
      ]
     },
     "execution_count": 12,
     "metadata": {},
     "output_type": "execute_result"
    }
   ],
   "source": [
    "# Determine which values to replace if counts are less than ..?\n",
    "replace_variety = list(variety_counts[variety_counts < 2000].index)\n",
    "\n",
    "# Replace in dataframe\n",
    "for var in replace_variety:\n",
    "    wine_df.variety= wine_df.variety.replace(var,\"Other\")\n",
    "    \n",
    "# Check to make sure binning was successful\n",
    "wine_df.variety.value_counts()"
   ]
  },
  {
   "cell_type": "code",
   "execution_count": 13,
   "id": "b1e54075",
   "metadata": {},
   "outputs": [
    {
     "data": {
      "text/plain": [
       "US                        37503\n",
       "France                    17439\n",
       "Italy                     10113\n",
       "Spain                      6528\n",
       "Portugal                   4864\n",
       "Chile                      4300\n",
       "Argentina                  3835\n",
       "Austria                    2810\n",
       "Germany                    2093\n",
       "Australia                  2001\n",
       "New Zealand                1264\n",
       "South Africa               1236\n",
       "Israel                      484\n",
       "Greece                      460\n",
       "Canada                      253\n",
       "Bulgaria                    141\n",
       "Hungary                     138\n",
       "Romania                     119\n",
       "Uruguay                     109\n",
       "Turkey                       90\n",
       "Georgia                      84\n",
       "Slovenia                     79\n",
       "Croatia                      73\n",
       "England                      69\n",
       "Mexico                       65\n",
       "Moldova                      59\n",
       "Brazil                       47\n",
       "Lebanon                      34\n",
       "Morocco                      25\n",
       "Peru                         16\n",
       "Ukraine                      14\n",
       "Macedonia                    12\n",
       "Serbia                       12\n",
       "Czech Republic               12\n",
       "Cyprus                       11\n",
       "India                         9\n",
       "Switzerland                   7\n",
       "Luxembourg                    6\n",
       "Bosnia and Herzegovina        2\n",
       "Armenia                       2\n",
       "Slovakia                      1\n",
       "China                         1\n",
       "Name: country_name, dtype: int64"
      ]
     },
     "execution_count": 13,
     "metadata": {},
     "output_type": "execute_result"
    }
   ],
   "source": [
    "country_counts=wine_df.country_name.value_counts()\n",
    "country_counts"
   ]
  },
  {
   "cell_type": "code",
   "execution_count": 14,
   "id": "7acb857b",
   "metadata": {},
   "outputs": [
    {
     "data": {
      "text/plain": [
       "US           37503\n",
       "France       17439\n",
       "Italy        10113\n",
       "Spain         6528\n",
       "Other         4934\n",
       "Portugal      4864\n",
       "Chile         4300\n",
       "Argentina     3835\n",
       "Austria       2810\n",
       "Germany       2093\n",
       "Australia     2001\n",
       "Name: country_name, dtype: int64"
      ]
     },
     "execution_count": 14,
     "metadata": {},
     "output_type": "execute_result"
    }
   ],
   "source": [
    "# Determine which values to replace if counts are less than ..?\n",
    "replace_country = list(country_counts[country_counts < 2000].index)\n",
    "\n",
    "# Replace in dataframe\n",
    "for coun in replace_country:\n",
    "    wine_df.country_name= wine_df.country_name.replace(coun,\"Other\")\n",
    "    \n",
    "# Check to make sure binning was successful\n",
    "wine_df.country_name.value_counts()"
   ]
  },
  {
   "cell_type": "code",
   "execution_count": 15,
   "id": "5c2cd575",
   "metadata": {},
   "outputs": [],
   "source": [
    "wine_df['Points']=wine_df['Points'].astype(int)"
   ]
  },
  {
   "cell_type": "code",
   "execution_count": 16,
   "id": "0d73b048",
   "metadata": {},
   "outputs": [],
   "source": [
    "wine_df['price']=wine_df['price'].astype(str)"
   ]
  },
  {
   "cell_type": "code",
   "execution_count": 17,
   "id": "ecc25a53",
   "metadata": {},
   "outputs": [],
   "source": [
    "# wine_df = wine_df.drop(columns=['province', 'title', 'winery', 'taster_name'], axis=1) "
   ]
  },
  {
   "cell_type": "code",
   "execution_count": 18,
   "id": "1572a6e4",
   "metadata": {},
   "outputs": [],
   "source": [
    "# Generate our categorical variable lists\n",
    "wine_cat=wine_df.dtypes[wine_df.dtypes ==\"object\"].index.tolist()"
   ]
  },
  {
   "cell_type": "code",
   "execution_count": 19,
   "id": "0868dd0e",
   "metadata": {},
   "outputs": [
    {
     "data": {
      "text/plain": [
       "variety         13\n",
       "price           16\n",
       "country_name    11\n",
       "dtype: int64"
      ]
     },
     "execution_count": 19,
     "metadata": {},
     "output_type": "execute_result"
    }
   ],
   "source": [
    "wine_df[wine_cat].nunique()"
   ]
  },
  {
   "cell_type": "code",
   "execution_count": 20,
   "id": "5c6ca51e",
   "metadata": {},
   "outputs": [],
   "source": [
    "# Create a OneHotEncoder instance\n",
    "enc = OneHotEncoder(sparse=False)\n",
    "\n",
    "# Fit and transform the OneHotEncoder using the categorical variable list\n",
    "wine_encode_df = pd.DataFrame(enc.fit_transform(wine_df[wine_cat]))\n",
    "wine_encode_df.columns = enc.get_feature_names(wine_cat)\n",
    "\n"
   ]
  },
  {
   "cell_type": "code",
   "execution_count": 21,
   "id": "81d1a830",
   "metadata": {},
   "outputs": [],
   "source": [
    "# Add the encoded variable names to the dataframe\n",
    "wine_df = wine_df.merge(wine_encode_df,left_index=True, right_index=True)\n",
    "wine_df = wine_df.drop(wine_cat,1)\n"
   ]
  },
  {
   "cell_type": "code",
   "execution_count": 22,
   "id": "f1fb918d",
   "metadata": {},
   "outputs": [],
   "source": [
    "# # drop unnecessary columns province, region_1, region_2, taster_twitter_handle, title, variety and winery. \n",
    "wine_df = wine_df.drop(columns=['points']) \n",
    "# # del wine_df['winery']\n",
    "# # # hot encoding for country and taster name as they are limited categories. \n",
    "# wine_df = pd.get_dummies(wine_df, columns=['country', 'price', 'variety'])"
   ]
  },
  {
   "cell_type": "code",
   "execution_count": 23,
   "id": "9f07f0c9",
   "metadata": {},
   "outputs": [
    {
     "ename": "FileNotFoundError",
     "evalue": "[Errno 2] No such file or directory: '../data_cleaning/ML_data2.csv'",
     "output_type": "error",
     "traceback": [
      "\u001b[1;31m---------------------------------------------------------------------------\u001b[0m",
      "\u001b[1;31mFileNotFoundError\u001b[0m                         Traceback (most recent call last)",
      "\u001b[1;32m~\\AppData\\Local\\Temp\\ipykernel_139472\\805448499.py\u001b[0m in \u001b[0;36m<module>\u001b[1;34m\u001b[0m\n\u001b[1;32m----> 1\u001b[1;33m \u001b[0mwine_df\u001b[0m\u001b[1;33m.\u001b[0m\u001b[0mto_csv\u001b[0m\u001b[1;33m(\u001b[0m\u001b[1;34mr'../data_cleaning/ML_data2.csv'\u001b[0m\u001b[1;33m,\u001b[0m \u001b[0mindex\u001b[0m\u001b[1;33m=\u001b[0m\u001b[1;32mFalse\u001b[0m\u001b[1;33m)\u001b[0m\u001b[1;33m\u001b[0m\u001b[1;33m\u001b[0m\u001b[0m\n\u001b[0m",
      "\u001b[1;32m~\\anaconda3\\envs\\PythonData\\lib\\site-packages\\pandas\\core\\generic.py\u001b[0m in \u001b[0;36mto_csv\u001b[1;34m(self, path_or_buf, sep, na_rep, float_format, columns, header, index, index_label, mode, encoding, compression, quoting, quotechar, line_terminator, chunksize, date_format, doublequote, escapechar, decimal, errors, storage_options)\u001b[0m\n\u001b[0;32m   3480\u001b[0m             \u001b[0mdoublequote\u001b[0m\u001b[1;33m=\u001b[0m\u001b[0mdoublequote\u001b[0m\u001b[1;33m,\u001b[0m\u001b[1;33m\u001b[0m\u001b[1;33m\u001b[0m\u001b[0m\n\u001b[0;32m   3481\u001b[0m             \u001b[0mescapechar\u001b[0m\u001b[1;33m=\u001b[0m\u001b[0mescapechar\u001b[0m\u001b[1;33m,\u001b[0m\u001b[1;33m\u001b[0m\u001b[1;33m\u001b[0m\u001b[0m\n\u001b[1;32m-> 3482\u001b[1;33m             \u001b[0mstorage_options\u001b[0m\u001b[1;33m=\u001b[0m\u001b[0mstorage_options\u001b[0m\u001b[1;33m,\u001b[0m\u001b[1;33m\u001b[0m\u001b[1;33m\u001b[0m\u001b[0m\n\u001b[0m\u001b[0;32m   3483\u001b[0m         )\n\u001b[0;32m   3484\u001b[0m \u001b[1;33m\u001b[0m\u001b[0m\n",
      "\u001b[1;32m~\\anaconda3\\envs\\PythonData\\lib\\site-packages\\pandas\\io\\formats\\format.py\u001b[0m in \u001b[0;36mto_csv\u001b[1;34m(self, path_or_buf, encoding, sep, columns, index_label, mode, compression, quoting, quotechar, line_terminator, chunksize, date_format, doublequote, escapechar, errors, storage_options)\u001b[0m\n\u001b[0;32m   1103\u001b[0m             \u001b[0mformatter\u001b[0m\u001b[1;33m=\u001b[0m\u001b[0mself\u001b[0m\u001b[1;33m.\u001b[0m\u001b[0mfmt\u001b[0m\u001b[1;33m,\u001b[0m\u001b[1;33m\u001b[0m\u001b[1;33m\u001b[0m\u001b[0m\n\u001b[0;32m   1104\u001b[0m         )\n\u001b[1;32m-> 1105\u001b[1;33m         \u001b[0mcsv_formatter\u001b[0m\u001b[1;33m.\u001b[0m\u001b[0msave\u001b[0m\u001b[1;33m(\u001b[0m\u001b[1;33m)\u001b[0m\u001b[1;33m\u001b[0m\u001b[1;33m\u001b[0m\u001b[0m\n\u001b[0m\u001b[0;32m   1106\u001b[0m \u001b[1;33m\u001b[0m\u001b[0m\n\u001b[0;32m   1107\u001b[0m         \u001b[1;32mif\u001b[0m \u001b[0mcreated_buffer\u001b[0m\u001b[1;33m:\u001b[0m\u001b[1;33m\u001b[0m\u001b[1;33m\u001b[0m\u001b[0m\n",
      "\u001b[1;32m~\\anaconda3\\envs\\PythonData\\lib\\site-packages\\pandas\\io\\formats\\csvs.py\u001b[0m in \u001b[0;36msave\u001b[1;34m(self)\u001b[0m\n\u001b[0;32m    241\u001b[0m             \u001b[0merrors\u001b[0m\u001b[1;33m=\u001b[0m\u001b[0mself\u001b[0m\u001b[1;33m.\u001b[0m\u001b[0merrors\u001b[0m\u001b[1;33m,\u001b[0m\u001b[1;33m\u001b[0m\u001b[1;33m\u001b[0m\u001b[0m\n\u001b[0;32m    242\u001b[0m             \u001b[0mcompression\u001b[0m\u001b[1;33m=\u001b[0m\u001b[0mself\u001b[0m\u001b[1;33m.\u001b[0m\u001b[0mcompression\u001b[0m\u001b[1;33m,\u001b[0m\u001b[1;33m\u001b[0m\u001b[1;33m\u001b[0m\u001b[0m\n\u001b[1;32m--> 243\u001b[1;33m             \u001b[0mstorage_options\u001b[0m\u001b[1;33m=\u001b[0m\u001b[0mself\u001b[0m\u001b[1;33m.\u001b[0m\u001b[0mstorage_options\u001b[0m\u001b[1;33m,\u001b[0m\u001b[1;33m\u001b[0m\u001b[1;33m\u001b[0m\u001b[0m\n\u001b[0m\u001b[0;32m    244\u001b[0m         ) as handles:\n\u001b[0;32m    245\u001b[0m \u001b[1;33m\u001b[0m\u001b[0m\n",
      "\u001b[1;32m~\\anaconda3\\envs\\PythonData\\lib\\site-packages\\pandas\\io\\common.py\u001b[0m in \u001b[0;36mget_handle\u001b[1;34m(path_or_buf, mode, encoding, compression, memory_map, is_text, errors, storage_options)\u001b[0m\n\u001b[0;32m    705\u001b[0m                 \u001b[0mencoding\u001b[0m\u001b[1;33m=\u001b[0m\u001b[0mioargs\u001b[0m\u001b[1;33m.\u001b[0m\u001b[0mencoding\u001b[0m\u001b[1;33m,\u001b[0m\u001b[1;33m\u001b[0m\u001b[1;33m\u001b[0m\u001b[0m\n\u001b[0;32m    706\u001b[0m                 \u001b[0merrors\u001b[0m\u001b[1;33m=\u001b[0m\u001b[0merrors\u001b[0m\u001b[1;33m,\u001b[0m\u001b[1;33m\u001b[0m\u001b[1;33m\u001b[0m\u001b[0m\n\u001b[1;32m--> 707\u001b[1;33m                 \u001b[0mnewline\u001b[0m\u001b[1;33m=\u001b[0m\u001b[1;34m\"\"\u001b[0m\u001b[1;33m,\u001b[0m\u001b[1;33m\u001b[0m\u001b[1;33m\u001b[0m\u001b[0m\n\u001b[0m\u001b[0;32m    708\u001b[0m             )\n\u001b[0;32m    709\u001b[0m         \u001b[1;32melse\u001b[0m\u001b[1;33m:\u001b[0m\u001b[1;33m\u001b[0m\u001b[1;33m\u001b[0m\u001b[0m\n",
      "\u001b[1;31mFileNotFoundError\u001b[0m: [Errno 2] No such file or directory: '../data_cleaning/ML_data2.csv'"
     ]
    }
   ],
   "source": [
    "#wine_df.to_csv(r'../data_cleaning/ML_data2.csv', index=False)"
   ]
  },
  {
   "cell_type": "code",
   "execution_count": null,
   "id": "968c1511",
   "metadata": {},
   "outputs": [],
   "source": [
    "wine_df.dtypes"
   ]
  },
  {
   "cell_type": "code",
   "execution_count": null,
   "id": "a5f0822e",
   "metadata": {},
   "outputs": [],
   "source": [
    "# Split our preprocessed data into our features and target arrays\n",
    "y = wine_df[\"Points\"].values\n",
    "X = wine_df.drop([\"Points\"],1).values\n",
    "\n",
    "# Split the preprocessed data into a training and testing dataset\n",
    "X_train, X_test, y_train, y_test = train_test_split(X, y, random_state=78)\n"
   ]
  },
  {
   "cell_type": "code",
   "execution_count": null,
   "id": "a37094d2",
   "metadata": {},
   "outputs": [],
   "source": [
    "# Create a StandardScaler instances\n",
    "# scaler = StandardScaler()\n",
    "\n",
    "# # Fit the StandardScaler\n",
    "# X_scaler = scaler.fit(X_train)\n",
    "\n",
    "# # Scale the data\n",
    "# X_train_scaled = X_scaler.transform(X_train)\n",
    "# X_test_scaled = X_scaler.transform(X_test)"
   ]
  },
  {
   "cell_type": "code",
   "execution_count": null,
   "id": "4ac726b4",
   "metadata": {},
   "outputs": [],
   "source": [
    "clf = RandomForestClassifier(random_state=1).fit(X_train, y_train)\n",
    "print(f'Training Score: {clf.score(X_train, y_train)}')\n",
    "print(f'Testing Score: {clf.score(X_test, y_test)}') "
   ]
  },
  {
   "cell_type": "code",
   "execution_count": null,
   "id": "fbf4c453",
   "metadata": {},
   "outputs": [],
   "source": [
    "from sklearn.metrics import accuracy_score"
   ]
  },
  {
   "cell_type": "code",
   "execution_count": null,
   "id": "d834179a",
   "metadata": {},
   "outputs": [],
   "source": [
    "# Create a random forest classifier.\n",
    "rf_model = RandomForestClassifier(n_estimators=128, random_state=78)\n",
    "\n",
    "# Fitting the model\n",
    "rf_model = rf_model.fit(X_train, y_train)\n",
    "\n",
    "# Evaluate the model\n",
    "y_pred = rf_model.predict(X_test)\n",
    "print(f\" Random forest predictive accuracy: {accuracy_score(y_test,y_pred):.3f}\")"
   ]
  },
  {
   "cell_type": "code",
   "execution_count": null,
   "id": "abbece9b",
   "metadata": {},
   "outputs": [],
   "source": [
    "# Calculating the confusion matrix\n",
    "cm = confusion_matrix(y_test, y_pred)\n",
    "cm_df = pd.DataFrame(\n",
    "    cm, index=[\"FINE\", \"GOOD\", \"VERY GOOD\", \"EXCEPTIONAL\"])\n",
    "\n",
    "# Calculating the accuracy score\n",
    "acc_score = accuracy_score(y_test, y_pred)"
   ]
  },
  {
   "cell_type": "code",
   "execution_count": null,
   "id": "7e83a057",
   "metadata": {},
   "outputs": [],
   "source": [
    "# Displaying results\n",
    "print(\"Confusion Matrix\")\n",
    "display(cm_df)\n",
    "print(f\"Accuracy Score : {acc_score}\")\n",
    "print(\"Classification Report\")\n",
    "print(classification_report(y_test, y_pred))"
   ]
  },
  {
   "cell_type": "code",
   "execution_count": null,
   "id": "06166dd2",
   "metadata": {},
   "outputs": [],
   "source": [
    "import pickle"
   ]
  },
  {
   "cell_type": "code",
   "execution_count": null,
   "id": "cf1d3faf",
   "metadata": {},
   "outputs": [],
   "source": [
    "pickle.dump(rf_model, open(\"../model.p\", \"wb\"))"
   ]
  },
  {
   "cell_type": "code",
   "execution_count": null,
   "id": "4bffc054",
   "metadata": {},
   "outputs": [],
   "source": []
  }
 ],
 "metadata": {
  "interpreter": {
   "hash": "807f2a0d5e8ffab31971f4e985d23433f20579a80f7d6653af265647a47932d5"
  },
  "kernelspec": {
   "display_name": "PythonData",
   "language": "python",
   "name": "pythondata"
  },
  "language_info": {
   "codemirror_mode": {
    "name": "ipython",
    "version": 3
   },
   "file_extension": ".py",
   "mimetype": "text/x-python",
   "name": "python",
   "nbconvert_exporter": "python",
   "pygments_lexer": "ipython3",
   "version": "3.7.11"
  }
 },
 "nbformat": 4,
 "nbformat_minor": 5
}
